{
  "nbformat": 4,
  "nbformat_minor": 0,
  "metadata": {
    "colab": {
      "provenance": [],
      "collapsed_sections": [
        "lymb0_F-hlGX",
        "4WgsLeJngPb1",
        "NFTzaAkEr-IP",
        "I5uGdrdeh0QG",
        "q_1DoZ2BF-Nb",
        "8WrVvzxGLeqS"
      ],
      "include_colab_link": true
    },
    "kernelspec": {
      "name": "python3",
      "display_name": "Python 3"
    },
    "language_info": {
      "name": "python"
    },
    "gpuClass": "standard",
    "accelerator": "GPU"
  },
  "cells": [
    {
      "cell_type": "markdown",
      "metadata": {
        "id": "view-in-github",
        "colab_type": "text"
      },
      "source": [
        "<a href=\"https://colab.research.google.com/github/inacios777/Expressao-Facial/blob/main/L05P01_2.ipynb\" target=\"_parent\"><img src=\"https://colab.research.google.com/assets/colab-badge.svg\" alt=\"Open In Colab\"/></a>"
      ]
    },
    {
      "cell_type": "markdown",
      "source": [
        "# **Redes Neurais e Aprendizado Profundo**\n",
        "# **Trabalho Final - Aplicação de um modelo de redes neurais/deep learning**\n",
        "**Autor**: Rafael Inácio Silva\n",
        "\n",
        "**Descrição**: Desenvolva um modelo usando alguma das arquiteturas e/ou redes aprendidos nas disciplina. O modelo não precisa ter uma excelente performance, a principal ideia é que você, enquanto aluno e profissional da área use o framework Keras para se familiarizar com os conceitos e com a própria sintaxe da ferramenta.\n",
        "\n",
        "O processo de treino e consequente melhoria continua dos modelos é algo que vemos durante o dia-a-dia de um especialista em Dados ou em IA/ML/DL, por isso não se preocupe em ter o melhor modelo para o problema em questão.\n",
        "\n",
        "Orientações gerais para realização da atividade:\n",
        "\n",
        "A ideia da aplicação em um conjunto de dados é realizar um treino com algum dataset disponível (ex.: Kaggle) em um notebook no Google Colab;\n",
        "Usem o Colab pra facilitar a questão da instalação das bibliotecas e da infraestrutura;\n",
        "Busque explicar o raciocínio no notebook, qual foi o pensamento para tomar cada decisão e o que foi possível concluir sobre o modelo (alguns exemplos: qual pré-processamento de dado foi usado, qualidade do modelo, o que poderia ser feito para melhorar o modelo, dentre outros);\n",
        "Use a criatividade na hora de explicar;\n",
        "Recomendo fortemente o uso de células textuais no trabalho para que você possa escrever o seu raciocínio. \n",
        "\n",
        "# **BASE DE DADOS**\n",
        "\n",
        "Os dados consistem em imagens de rostos em tons de cinza de 48x48 pixels. Os rostos foram registrados automaticamente para que o rosto fique mais ou menos centralizado e ocupe aproximadamente a mesma quantidade de espaço em cada imagem.\n",
        "\n",
        "Cada pasta contem um conjunto de imagens de rosto com base na emoção mostrada na expressão facial em uma das sete categorias (0=Irritado, 1=Nojo, 2=Medo, 3=Feliz, 4=Triste, 5=Surpresa, 6=Neutro).\n",
        "\n",
        "O conjunto consiste em 35894 exemplos.\n"
      ],
      "metadata": {
        "id": "yYryuRDeqbxK"
      }
    },
    {
      "cell_type": "markdown",
      "source": [
        "# Instalação dos pacotes extras"
      ],
      "metadata": {
        "id": "lymb0_F-hlGX"
      }
    },
    {
      "cell_type": "code",
      "source": [
        "from google.colab import drive\n",
        "drive.mount('/content/drive')"
      ],
      "metadata": {
        "colab": {
          "base_uri": "https://localhost:8080/"
        },
        "id": "5qQ6Zgm6bP4D",
        "outputId": "c68dba42-7ead-4981-b267-132642d372ef"
      },
      "execution_count": 1,
      "outputs": [
        {
          "output_type": "stream",
          "name": "stdout",
          "text": [
            "Mounted at /content/drive\n"
          ]
        }
      ]
    },
    {
      "cell_type": "code",
      "source": [
        "! pip install imutils --quiet\n",
        "! pip install adabelief-tf --quiet\n",
        "! pip install mlflow --quiet"
      ],
      "metadata": {
        "id": "xwARSvNRhhid",
        "colab": {
          "base_uri": "https://localhost:8080/"
        },
        "outputId": "36b96b2c-5911-44a9-c088-658e4f2d02ac"
      },
      "execution_count": 2,
      "outputs": [
        {
          "output_type": "stream",
          "name": "stdout",
          "text": [
            "\u001b[K     |████████████████████████████████| 16.5 MB 40.2 MB/s \n",
            "\u001b[K     |████████████████████████████████| 147 kB 76.1 MB/s \n",
            "\u001b[K     |████████████████████████████████| 82 kB 544 kB/s \n",
            "\u001b[K     |████████████████████████████████| 79 kB 8.8 MB/s \n",
            "\u001b[K     |████████████████████████████████| 210 kB 80.0 MB/s \n",
            "\u001b[K     |████████████████████████████████| 575 kB 76.9 MB/s \n",
            "\u001b[K     |████████████████████████████████| 182 kB 70.8 MB/s \n",
            "\u001b[K     |████████████████████████████████| 78 kB 8.5 MB/s \n",
            "\u001b[K     |████████████████████████████████| 140 kB 80.6 MB/s \n",
            "\u001b[K     |████████████████████████████████| 62 kB 1.8 MB/s \n",
            "\u001b[K     |████████████████████████████████| 55 kB 4.3 MB/s \n",
            "\u001b[K     |████████████████████████████████| 62 kB 1.5 MB/s \n",
            "\u001b[?25h  Building wheel for databricks-cli (setup.py) ... \u001b[?25l\u001b[?25hdone\n"
          ]
        }
      ]
    },
    {
      "cell_type": "markdown",
      "source": [
        "# Importando os módulos necessários"
      ],
      "metadata": {
        "id": "4WgsLeJngPb1"
      }
    },
    {
      "cell_type": "code",
      "source": [
        "import os\n",
        "import cv2\n",
        "import PIL\n",
        "import random\n",
        "import shutil\n",
        "import numpy as np\n",
        "import pandas as pd\n",
        "import matplotlib.pyplot as plt\n",
        "\n",
        "from adabelief_tf import AdaBeliefOptimizer\n",
        "from sklearn.model_selection import train_test_split\n",
        "\n",
        "import tensorflow\n",
        "import tensorflow as tf\n",
        "from datetime import datetime\n",
        "import random as python_random\n",
        "from tensorflow import keras\n",
        "from tensorflow.keras.optimizers import Adam\n",
        "from tensorflow.keras.applications import VGG16\n",
        "from tensorflow.keras.utils import to_categorical\n",
        "from tensorflow.keras.models import Model, Sequential\n",
        "from tensorflow.keras.preprocessing.image import ImageDataGenerator\n",
        "from tensorflow.keras.layers import (Activation, \n",
        "                                     Dropout, \n",
        "                                     Dense, \n",
        "                                     Flatten, \n",
        "                                     BatchNormalization, \n",
        "                                     Conv2D, \n",
        "                                     MaxPooling2D, \n",
        "                                     Lambda, \n",
        "                                     Input, \n",
        "                                     AveragePooling2D)\n",
        "from keras.callbacks import ReduceLROnPlateau, LearningRateScheduler"
      ],
      "metadata": {
        "id": "55YREGWfhXuu"
      },
      "execution_count": 3,
      "outputs": []
    },
    {
      "cell_type": "markdown",
      "source": [
        "# Definindo funções adicionais"
      ],
      "metadata": {
        "id": "NFTzaAkEr-IP"
      }
    },
    {
      "cell_type": "code",
      "source": [
        "def read_data_files(root, folder, sub_folder, file_name):\n",
        "  with open(os.path.join(root, folder, sub_folder, file_name)) as f:\n",
        "    files_names = [line.replace('\\n','') for line in f.readlines()]\n",
        "  return files_names\n",
        "\n",
        "def read_files_names(root, folder):\n",
        "  return os.listdir(os.path.join(root, folder))\n",
        "\n",
        "def read_image(root, folder, file_name) -> None:\n",
        " return tf.keras.utils.load_img(\n",
        "      os.path.join(root, folder, file_name),\n",
        "      grayscale=False,\n",
        "      color_mode='rgb',\n",
        "      target_size=None,\n",
        "      interpolation='nearest'\n",
        "  )\n",
        "\n",
        "def reset_seeds():\n",
        "   np.random.seed(123) \n",
        "   python_random.seed(123)\n",
        "   tensorflow.random.set_seed(1234)"
      ],
      "metadata": {
        "id": "OgKUlrlbozyR"
      },
      "execution_count": 4,
      "outputs": []
    },
    {
      "cell_type": "markdown",
      "source": [
        "# Definindo as variáveis"
      ],
      "metadata": {
        "id": "I5uGdrdeh0QG"
      }
    },
    {
      "cell_type": "code",
      "source": [
        "# (0=Irritado, 1=Nojo, 2=Medo, 3=Feliz, 4=Triste, 5=Surpresa, 6=Neutro)\n",
        "\n",
        "root = './drive/MyDrive/Expressão Facial/'\n",
        "\n",
        "len(os.listdir(os.path.join(root, 'irritado', '0'))), \n",
        "len(os.listdir(os.path.join(root, 'nojo', '1')))\n",
        "len(os.listdir(os.path.join(root, 'medo', '2')))\n",
        "len(os.listdir(os.path.join(root, 'feliz', '3')))\n",
        "len(os.listdir(os.path.join(root, 'triste', '4')))\n",
        "len(os.listdir(os.path.join(root, 'surpresa', '5')))\n",
        "len(os.listdir(os.path.join(root, 'neutro', '6')))\n",
        "\n",
        "irritado = read_files_names(root, 'irritado/0')\n",
        "nojo = read_files_names(root, 'nojo/1')\n",
        "medo = read_files_names(root, 'medo/2')\n",
        "feliz = read_files_names(root, 'feliz/3')\n",
        "triste = read_files_names(root, 'triste/4')\n",
        "surpresa = read_files_names(root, 'surpresa/5')\n",
        "neutro = read_files_names(root, 'neutro/6')\n",
        "\n",
        "\n"
      ],
      "metadata": {
        "id": "BmnMoh3YCjWZ"
      },
      "execution_count": 5,
      "outputs": []
    },
    {
      "cell_type": "markdown",
      "source": [
        "# visualização da base"
      ],
      "metadata": {
        "id": "q_1DoZ2BF-Nb"
      }
    },
    {
      "cell_type": "code",
      "source": [
        "read_image(root, 'irritado/0', irritado[0])"
      ],
      "metadata": {
        "colab": {
          "base_uri": "https://localhost:8080/",
          "height": 65
        },
        "id": "8foEOkycF9Rx",
        "outputId": "4044ef79-61a2-4432-fa9d-76919da9e1cf"
      },
      "execution_count": 6,
      "outputs": [
        {
          "output_type": "execute_result",
          "data": {
            "text/plain": [
              "<PIL.Image.Image image mode=RGB size=48x48 at 0x7F52947FC9A0>"
            ],
            "image/png": "[encoded data removed]"
          },
          "metadata": {},
          "execution_count": 6
        }
      ]
    },
    {
      "cell_type": "code",
      "source": [
        "read_image(root, 'nojo/1', nojo[0])"
      ],
      "metadata": {
        "colab": {
          "base_uri": "https://localhost:8080/",
          "height": 65
        },
        "id": "YelXmFk7I6gl",
        "outputId": "26abaac0-4a5d-4765-8a65-6891fc4418a1"
      },
      "execution_count": 7,
      "outputs": [
        {
          "output_type": "execute_result",
          "data": {
            "text/plain": [
              "<PIL.Image.Image image mode=RGB size=48x48 at 0x7F5294519D60>"
            ],
            "image/png": "[encoded data removed]"
          },
          "metadata": {},
          "execution_count": 7
        }
      ]
    },
    {
      "cell_type": "code",
      "source": [
        "read_image(root, 'medo/2', medo[0])"
      ],
      "metadata": {
        "colab": {
          "base_uri": "https://localhost:8080/",
          "height": 65
        },
        "id": "WLhNqUEhpozB",
        "outputId": "5267c40b-6a2d-4b6b-9ea3-8724c2b1e1b9"
      },
      "execution_count": 8,
      "outputs": [
        {
          "output_type": "execute_result",
          "data": {
            "text/plain": [
              "<PIL.Image.Image image mode=RGB size=48x48 at 0x7F5294519D30>"
            ],
            "image/png": "[encoded data removed]"
          },
          "metadata": {},
          "execution_count": 8
        }
      ]
    },
    {
      "cell_type": "code",
      "source": [
        "read_image(root, 'feliz/3', feliz[0])"
      ],
      "metadata": {
        "colab": {
          "base_uri": "https://localhost:8080/",
          "height": 65
        },
        "id": "qwcilNwzpomx",
        "outputId": "4f2d91cf-d701-457d-8e08-9e9900e3caa4"
      },
      "execution_count": 9,
      "outputs": [
        {
          "output_type": "execute_result",
          "data": {
            "text/plain": [
              "<PIL.Image.Image image mode=RGB size=48x48 at 0x7F5294519F40>"
            ],
            "image/png": "[encoded data removed]"
          },
          "metadata": {},
          "execution_count": 9
        }
      ]
    },
    {
      "cell_type": "code",
      "source": [
        "read_image(root, 'triste/4', triste[0])"
      ],
      "metadata": {
        "colab": {
          "base_uri": "https://localhost:8080/",
          "height": 65
        },
        "id": "UUfXs3QWpob_",
        "outputId": "e2eef6a9-051d-42ae-bb34-b802848d9cc5"
      },
      "execution_count": 10,
      "outputs": [
        {
          "output_type": "execute_result",
          "data": {
            "text/plain": [
              "<PIL.Image.Image image mode=RGB size=48x48 at 0x7F5294527220>"
            ],
            "image/png": "[encoded data removed]"
          },
          "metadata": {},
          "execution_count": 10
        }
      ]
    },
    {
      "cell_type": "code",
      "source": [
        "read_image(root, 'surpresa/5', surpresa[0])"
      ],
      "metadata": {
        "colab": {
          "base_uri": "https://localhost:8080/",
          "height": 65
        },
        "id": "-I4cVQNmpnhA",
        "outputId": "7d1720ab-84da-4169-bc30-50f40ee5eea7"
      },
      "execution_count": 11,
      "outputs": [
        {
          "output_type": "execute_result",
          "data": {
            "text/plain": [
              "<PIL.Image.Image image mode=RGB size=48x48 at 0x7F5294527DC0>"
            ],
            "image/png": "[encoded data removed]"
          },
          "metadata": {},
          "execution_count": 11
        }
      ]
    },
    {
      "cell_type": "code",
      "source": [
        "read_image(root, 'neutro/6', neutro[0])"
      ],
      "metadata": {
        "colab": {
          "base_uri": "https://localhost:8080/",
          "height": 65
        },
        "id": "x9gEiMK0pnS9",
        "outputId": "20d601c9-7207-4d9f-84b6-1379dbe3eeda"
      },
      "execution_count": 12,
      "outputs": [
        {
          "output_type": "execute_result",
          "data": {
            "text/plain": [
              "<PIL.Image.Image image mode=RGB size=48x48 at 0x7F52945278E0>"
            ],
            "image/png": "[encoded data removed]"
          },
          "metadata": {},
          "execution_count": 12
        }
      ]
    },
    {
      "cell_type": "markdown",
      "source": [
        "# Característica da imagem para o modelo"
      ],
      "metadata": {
        "id": "8WrVvzxGLeqS"
      }
    },
    {
      "cell_type": "code",
      "source": [
        "image = read_image(root, 'irritado/0', irritado[0])\n",
        "array = np.asarray(image)\n",
        "array.shape"
      ],
      "metadata": {
        "id": "75Yk52P1XOVt",
        "colab": {
          "base_uri": "https://localhost:8080/"
        },
        "outputId": "2b750f09-7976-40c4-854a-fbd6f9e23ed3"
      },
      "execution_count": 13,
      "outputs": [
        {
          "output_type": "execute_result",
          "data": {
            "text/plain": [
              "(48, 48, 3)"
            ]
          },
          "metadata": {},
          "execution_count": 13
        }
      ]
    },
    {
      "cell_type": "markdown",
      "source": [
        "# Gerando o valor de X"
      ],
      "metadata": {
        "id": "1eQEA-fzgQ0G"
      }
    },
    {
      "cell_type": "code",
      "source": [
        "# (0=Irritado, 1=Nojo, 2=Medo, 3=Feliz, 4=Triste, 5=Surpresa, 6=Neutro)\n",
        "\n",
        "width = 48\n",
        "height = 48\n",
        "channels = 3\n",
        "size = (height, width)\n",
        "\n",
        "# X_irritado = [np.array(image).astype('float32')/255  for image in \n",
        " #                    [read_image(root,'irritado/0', image_name).resize(size) for image_name in irritado]]\n",
        "\n",
        "# X_nojo = [np.array(image).astype('float32')/255  for image in \n",
        " #                     [read_image(root,'nojo/1', image_name).resize(size) for image_name in nojo]]\n",
        "\n",
        "# X_medo = [np.array(image).astype('float32')/255  for image in \n",
        " #                    [read_image(root,'medo/2', image_name).resize(size) for image_name in medo]]\n",
        "\n",
        "X_feliz = [np.array(image).astype('float32')/255  for image in \n",
        "                     [read_image(root,'feliz/3', image_name).resize(size) for image_name in feliz]]\n",
        "\n",
        "X_triste = [np.array(image).astype('float32')/255  for image in \n",
        "                     [read_image(root,'triste/4', image_name).resize(size) for image_name in triste]]\n",
        "\n",
        "# X_surpresa = [np.array(image).astype('float32')/255  for image in \n",
        " #                     [read_image(root,'surpresa/5', image_name).resize(size) for image_name in surpresa]]\n",
        "\n",
        "# X_neutro = [np.array(image).astype('float32')/255  for image in \n",
        "  #                    [read_image(root,'neutro/6', image_name).resize(size) for image_name in neutro]]                     "
      ],
      "metadata": {
        "id": "MMP5nRCPg1Gy"
      },
      "execution_count": null,
      "outputs": []
    },
    {
      "cell_type": "markdown",
      "source": [
        "# Gerando o valor de Y"
      ],
      "metadata": {
        "id": "gMQnsPn6tSxe"
      }
    },
    {
      "cell_type": "code",
      "source": [
        "# (0=Irritado, 1=Nojo, 2=Medo, 3=Feliz, 4=Triste, 5=Surpresa, 6=Neutro)\n",
        "\n",
        "# Y_irritado = np.zeros(len(X_irritado))\n",
        "\n",
        "# Y_nojo = np.ones(len(X_nojo))\n",
        "\n",
        "# Y_medo = np.ones(len(X_medo))\n",
        "# for j in range(len(Y_medo)):\n",
        "#     if Y_medo[j] == 1:\n",
        "#         Y_medo[j] = 2 \n",
        "\n",
        "Y_feliz = np.zeros(len(X_feliz))\n",
        "for j in range(len(Y_feliz)):\n",
        "    if Y_feliz[j] == 1:\n",
        "        Y_feliz[j] = 3 \n",
        "\n",
        "Y_triste = np.ones(len(X_triste))\n",
        "for j in range(len(Y_triste)):\n",
        "    if Y_triste[j] == 1:\n",
        "        Y_triste[j] = 4\n",
        "\n",
        "# Y_surpresa = np.zeros(len(X_surpresa))\n",
        "# for j in range(len(Y_surpresa)):\n",
        "#     if Y_surpresa[j] == 1:\n",
        "#         Y_surpresa[j] = 5\n",
        "\n",
        "# Y_neutro = np.ones(len(X_neutro))\n",
        "# for j in range(len(Y_neutro)):\n",
        "#     if Y_neutro[j] == 1:\n",
        "#         Y_neutro[j] = 6 "
      ],
      "metadata": {
        "id": "6LloED9ztSgv"
      },
      "execution_count": null,
      "outputs": []
    },
    {
      "cell_type": "markdown",
      "source": [
        "# Criando o modelo e adicionando as camadas"
      ],
      "metadata": {
        "id": "54CmcOG1gRn9"
      }
    },
    {
      "cell_type": "code",
      "source": [
        "reset_seeds()\n",
        "\n",
        "model = Sequential()\n",
        "model.add(Conv2D(256, (3,3), activation='relu', input_shape=(width,height, channels)))\n",
        "model.add(MaxPooling2D((2,2)))\n",
        "\n",
        "model.add(Conv2D(128, (3,3), activation='relu'))\n",
        "model.add(MaxPooling2D((2,2)))\n",
        "\n",
        "model.add(Conv2D(64, (3,3), activation='relu'))\n",
        "model.add(MaxPooling2D((2,2)))\n",
        "\n",
        "model.add(Conv2D(32, (3,3), activation='relu'))\n",
        "model.add(MaxPooling2D((2,2)))\n",
        "\n",
        "model.add(Flatten())\n",
        "\n",
        "model.add(Dense(128, activation='relu'))\n",
        "model.add(Dense(64, activation='relu'))\n",
        "model.add(Dense(32, activation='relu'))\n",
        "model.add(Dense(7, activation='sigmoid'))"
      ],
      "metadata": {
        "id": "4y2kKy_EkLGt"
      },
      "execution_count": null,
      "outputs": []
    },
    {
      "cell_type": "markdown",
      "source": [
        "# Vendo a arquitetura do modelo"
      ],
      "metadata": {
        "id": "PtUwuRnffvch"
      }
    },
    {
      "cell_type": "code",
      "source": [
        "img_file = '/tmp/cnn_model.png'\n",
        "tensorflow.keras.utils.plot_model(model, \n",
        "                                  to_file=img_file, \n",
        "                                  show_shapes=True, \n",
        "                                  show_layer_activations=True)"
      ],
      "metadata": {
        "id": "QYjObnbZfuIy"
      },
      "execution_count": null,
      "outputs": []
    },
    {
      "cell_type": "code",
      "source": [
        "model.summary()"
      ],
      "metadata": {
        "id": "l1itjn5NYv8O"
      },
      "execution_count": null,
      "outputs": []
    },
    {
      "cell_type": "markdown",
      "source": [
        "# Criando os otimizadores"
      ],
      "metadata": {
        "id": "eCfekWqxVQ0Z"
      }
    },
    {
      "cell_type": "code",
      "source": [
        "learning_rate = 1e-4\n",
        "ada_belief = AdaBeliefOptimizer(learning_rate=learning_rate)"
      ],
      "metadata": {
        "id": "EWaKIm1UU2Uk"
      },
      "execution_count": null,
      "outputs": []
    },
    {
      "cell_type": "markdown",
      "source": [
        "# Tracking do experimento"
      ],
      "metadata": {
        "id": "kElQ01xngSGx"
      }
    },
    {
      "cell_type": "code",
      "source": [
        "import mlflow"
      ],
      "metadata": {
        "id": "nee7sLFK1aKd"
      },
      "execution_count": null,
      "outputs": []
    },
    {
      "cell_type": "code",
      "source": [
        "MLFLOW_TRACKING_URI = 'https://dagshub.com/inacios777/Aula_redes_neurais.mlflow'\n",
        "MLFLOW_TRACKING_USERNAME = 'inacios777'\n",
        "MLFLOW_TRACKING_PASSWORD = '6d691438c607ecc3123c696ae8e46500a2f0e19b'\n",
        "\n",
        "os.environ['MLFLOW_TRACKING_USERNAME'] = MLFLOW_TRACKING_USERNAME\n",
        "os.environ['MLFLOW_TRACKING_PASSWORD'] = MLFLOW_TRACKING_PASSWORD\n",
        "\n",
        "mlflow.set_tracking_uri(MLFLOW_TRACKING_URI)\n",
        "\n",
        "mlflow.tensorflow.autolog(log_models=True, \n",
        "                          log_input_examples=True,\n",
        "                          log_model_signatures=True)"
      ],
      "metadata": {
        "id": "V0R-NzmvYcLL"
      },
      "execution_count": null,
      "outputs": []
    },
    {
      "cell_type": "markdown",
      "source": [
        "# Compilando o modelo\n"
      ],
      "metadata": {
        "id": "E0JmDrz6iQDw"
      }
    },
    {
      "cell_type": "code",
      "source": [
        "model.compile(optimizer=ada_belief,\n",
        "              loss='binary_crossentropy', \n",
        "              metrics=['accuracy', \n",
        "                       tf.keras.metrics.Precision(), \n",
        "                       tf.keras.metrics.Recall()])"
      ],
      "metadata": {
        "id": "7IeY0b4i1gQj"
      },
      "execution_count": null,
      "outputs": []
    },
    {
      "cell_type": "markdown",
      "source": [
        "# Separando Treino e Teste"
      ],
      "metadata": {
        "id": "MoHbKkvCim-p"
      }
    },
    {
      "cell_type": "code",
      "source": [
        "# (0=Irritado, 1=Nojo, 2=Medo, 3=Feliz, 4=Triste, 5=Surpresa, 6=Neutro)\n",
        "\n",
        "X_train, X_test, y_train, y_test = train_test_split(np.concatenate((# X_irritado, \n",
        "                                                                    # X_nojo,\n",
        "                                                                    # X_medo, \n",
        "                                                                    X_feliz, \n",
        "                                                                    X_triste\n",
        "                                                                    # X_surpresa, \n",
        "                                                                    # X_neutro \n",
        "                                                                    )), \n",
        "                                     to_categorical(np.concatenate((# Y_irritado, \n",
        "                                                                    # Y_nojo,\n",
        "                                                                    # Y_medo, \n",
        "                                                                    Y_feliz, \n",
        "                                                                    Y_triste\n",
        "                                                                    # Y_surpresa, \n",
        "                                                                    # Y_neutro \n",
        "                                                                    ))),\n",
        "                                      test_size=0.3, random_state=42)"
      ],
      "metadata": {
        "id": "w8IX2tHI2VX4"
      },
      "execution_count": null,
      "outputs": []
    },
    {
      "cell_type": "markdown",
      "source": [
        "# Executando modelo de treino"
      ],
      "metadata": {
        "id": "XFwXSCq6Va6_"
      }
    },
    {
      "cell_type": "code",
      "source": [
        "with mlflow.start_run(run_name='expressao_facial_treino'):\n",
        "  reset_seeds()\n",
        "  hist = model.fit(X_train, \n",
        "                   Y_train, \n",
        "                   epochs=2, \n",
        "                   validation_split=0.2)"
      ],
      "metadata": {
        "id": "Qk0wKBUPVMOo"
      },
      "execution_count": null,
      "outputs": []
    },
    {
      "cell_type": "markdown",
      "source": [
        "# Analisando Overffiting entre treino e teste"
      ],
      "metadata": {
        "id": "0Bs735QrM6Oe"
      }
    },
    {
      "cell_type": "code",
      "source": [
        "model.score(X_train, Y_train)"
      ],
      "metadata": {
        "id": "oTGA_VN-SO84"
      },
      "execution_count": null,
      "outputs": []
    },
    {
      "cell_type": "code",
      "source": [
        "Y_pred = model.predict(X_test)\n",
        "accuracy_score(Y_test, Y_pred)"
      ],
      "metadata": {
        "id": "QYriJK0GQrri"
      },
      "execution_count": null,
      "outputs": []
    },
    {
      "cell_type": "markdown",
      "source": [
        "# Avaliando o modelo dados externos"
      ],
      "metadata": {
        "id": "0pqwOl0Oc7nE"
      }
    },
    {
      "cell_type": "code",
      "source": [
        "neymar = tf.keras.utils.load_img(\n",
        "    root, 'neymar.png',\n",
        "    grayscale=False,\n",
        "    color_mode='rgb',\n",
        "    target_size=None,\n",
        "    interpolation='nearest'\n",
        ")\n",
        "neymar = neymar.resize(size)\n",
        "neymar = np.expand_dims(neymar, axis=0)\n",
        "neymar"
      ],
      "metadata": {
        "id": "pCm7o1CHL6ju"
      },
      "execution_count": null,
      "outputs": []
    },
    {
      "cell_type": "code",
      "source": [
        "mbape = tf.keras.utils.load_img(\n",
        "    root, 'mbape.png',\n",
        "    grayscale=False,\n",
        "    color_mode='rgb',\n",
        "    target_size=None,\n",
        "    interpolation='nearest'\n",
        ")\n",
        "mbape = mbape.resize(size)\n",
        "mbape = np.expand_dims(mbape, axis=0)\n",
        "mbape"
      ],
      "metadata": {
        "id": "wDZNCBLxL6XS"
      },
      "execution_count": null,
      "outputs": []
    },
    {
      "cell_type": "code",
      "source": [
        "cristiano = tf.keras.utils.load_img(\n",
        "    root, 'cristiano.png',\n",
        "    grayscale=False,\n",
        "    color_mode='rgb',\n",
        "    target_size=None,\n",
        "    interpolation='nearest'\n",
        ")\n",
        "cristiano = cristiano.resize(size)\n",
        "cristiano = np.expand_dims(cristiano, axis=0)\n",
        "cristiano"
      ],
      "metadata": {
        "id": "-T9vd3pzL6NF"
      },
      "execution_count": null,
      "outputs": []
    },
    {
      "cell_type": "code",
      "source": [
        "messi = tf.keras.utils.load_img(\n",
        "    root, 'messi.png',\n",
        "    grayscale=False,\n",
        "    color_mode='rgb',\n",
        "    target_size=None,\n",
        "    interpolation='nearest'\n",
        ")\n",
        "messi = messi.resize(size)\n",
        "messi = np.expand_dims(messi, axis=0)\n",
        "messi"
      ],
      "metadata": {
        "id": "iNrGrSs-L6A9"
      },
      "execution_count": null,
      "outputs": []
    },
    {
      "cell_type": "code",
      "source": [
        "# Conferir se possui 4 camadas\n",
        "\n",
        "neymar.shape"
      ],
      "metadata": {
        "id": "S92aoyijVrj9"
      },
      "execution_count": null,
      "outputs": []
    },
    {
      "cell_type": "code",
      "source": [
        "messi.shape"
      ],
      "metadata": {
        "id": "mHIhcQfn1kab"
      },
      "execution_count": null,
      "outputs": []
    },
    {
      "cell_type": "code",
      "source": [
        "mbape.shape"
      ],
      "metadata": {
        "id": "JnRBzF391mqN"
      },
      "execution_count": null,
      "outputs": []
    },
    {
      "cell_type": "code",
      "source": [
        "cristiano.shape"
      ],
      "metadata": {
        "id": "ZzDcl8VP1p6f"
      },
      "execution_count": null,
      "outputs": []
    },
    {
      "cell_type": "markdown",
      "source": [
        "# Resultado"
      ],
      "metadata": {
        "id": "o2JcpYTYUKPq"
      }
    },
    {
      "cell_type": "code",
      "source": [
        "mbape"
      ],
      "metadata": {
        "id": "b56AAJaN5CMH"
      },
      "execution_count": null,
      "outputs": []
    },
    {
      "cell_type": "code",
      "source": [
        "# (0=Irritado, 1=Nojo, 2=Medo, 3=Feliz, 4=Triste, 5=Surpresa, 6=Neutro)\n",
        "\n",
        "\n",
        "print('Mbappé grita e vibra com pênalti perdido por Harry Kane em Inglaterra x França — Foto: Reprodução/TV Globo')\n",
        "\n",
        "if model.predict(mbape)[0] < model.predict(mbape)[1]:\n",
        "  print('TRISTE')\n",
        "else:\n",
        "  print('FELIZ')\n",
        "\n",
        "\n",
        "\n",
        "\n",
        "\n"
      ],
      "metadata": {
        "id": "1EnkZTgIX29Y"
      },
      "execution_count": null,
      "outputs": []
    },
    {
      "cell_type": "code",
      "source": [
        "cristiano"
      ],
      "metadata": {
        "id": "sjah5XrY5FA6"
      },
      "execution_count": null,
      "outputs": []
    },
    {
      "cell_type": "code",
      "source": [
        "print('Cristiano Ronaldo não conteve as lágrimas após a derrota de Portugal')\n",
        "\n",
        "if model.predict(cristiano)[0] < model.predict(cristiano)[1]:\n",
        "  print('TRISTE')\n",
        "else:\n",
        "  print('FELIZ')"
      ],
      "metadata": {
        "id": "bk7jzmnGbggB"
      },
      "execution_count": null,
      "outputs": []
    },
    {
      "cell_type": "code",
      "source": [
        "neymar"
      ],
      "metadata": {
        "id": "f2Ywmd5s5G3z"
      },
      "execution_count": null,
      "outputs": []
    },
    {
      "cell_type": "code",
      "source": [
        "print('Neymar depois da derrota contra Croácia')\n",
        "\n",
        "if model.predict(neymar)[0] < model.predict(neymar)[1]:\n",
        "  print('TRISTE')\n",
        "else:\n",
        "  print('FELIZ')"
      ],
      "metadata": {
        "id": "c-OBEXwrcA2D"
      },
      "execution_count": null,
      "outputs": []
    },
    {
      "cell_type": "code",
      "source": [
        "messi"
      ],
      "metadata": {
        "id": "FEDRHLDf5Id7"
      },
      "execution_count": null,
      "outputs": []
    },
    {
      "cell_type": "code",
      "source": [
        "print('Messi eleito o melhor jogador da Copa do Mundo 2022')\n",
        "\n",
        "if model.predict(messi)[0] < model.predict(messi)[1]:\n",
        "  print('TRISTE')\n",
        "else:\n",
        "  print('FELIZ')"
      ],
      "metadata": {
        "id": "qYslagEIc_Rb"
      },
      "execution_count": null,
      "outputs": []
    }
  ]
}